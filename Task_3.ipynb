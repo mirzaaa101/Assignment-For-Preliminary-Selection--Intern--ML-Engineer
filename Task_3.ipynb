{
 "cells": [
  {
   "cell_type": "code",
   "execution_count": 3,
   "id": "70501d67-0e20-4708-9e57-b6b01d7fdc39",
   "metadata": {},
   "outputs": [],
   "source": [
    "import tensorflow as tf\n",
    "\n",
    "class SimpleNeuralNetwork:\n",
    "    def __init__(self, input_dim):\n",
    "        self.w = tf.Variable(tf.ones(input_dim), dtype=tf.float32) # initialized weights\n",
    "\n",
    "    def feedforward(self, x):\n",
    "        z = tf.reduce_sum(tf.multiply(x, self.w)) # compute the weighted sum\n",
    "        y = tf.sigmoid(z)\n",
    "        return y\n",
    "\n",
    "    def compute_loss(self, y, target):\n",
    "        loss = tf.reduce_mean(tf.square(y - target))  # compute the MSE loss\n",
    "        return loss\n",
    "\n",
    "    def train_step(self, x, target, learning_rate=0.1):\n",
    "        with tf.GradientTape() as tape:\n",
    "            y = self.feedforward(x) # forward pass\n",
    "            loss = self.compute_loss(y, target) \n",
    "        \n",
    "        gradients = tape.gradient(loss, [self.w])\n",
    "        self.w.assign_sub(learning_rate * gradients[0])  # Update weights\n",
    "        \n",
    "        return y, loss"
   ]
  },
  {
   "cell_type": "code",
   "execution_count": 8,
   "id": "a331737b-6e1d-49f0-9b01-db5422d0a39c",
   "metadata": {},
   "outputs": [],
   "source": [
    "x = tf.constant([0.5, 0.6], dtype=tf.float32) # inputs\n",
    "target = tf.constant([0.0], dtype=tf.float32)\n",
    "\n",
    "nn = SimpleNeuralNetwork(input_dim=2)\n",
    "output, loss = nn.train_step(x, target)"
   ]
  },
  {
   "cell_type": "code",
   "execution_count": 9,
   "id": "2159b2ff-480f-4d87-b692-d4f00318c7c7",
   "metadata": {},
   "outputs": [
    {
     "name": "stdout",
     "output_type": "stream",
     "text": [
      "Output after feedforward: 0.7502601\n",
      "Loss: 0.56289023\n",
      "Updated weights: [0.98594236 0.9831309 ]\n"
     ]
    }
   ],
   "source": [
    "print(\"Output after feedforward:\", output.numpy())\n",
    "print(\"Loss:\", loss.numpy())\n",
    "print(\"Updated weights:\", nn.w.numpy())"
   ]
  }
 ],
 "metadata": {
  "kernelspec": {
   "display_name": "Python 3 (ipykernel)",
   "language": "python",
   "name": "python3"
  },
  "language_info": {
   "codemirror_mode": {
    "name": "ipython",
    "version": 3
   },
   "file_extension": ".py",
   "mimetype": "text/x-python",
   "name": "python",
   "nbconvert_exporter": "python",
   "pygments_lexer": "ipython3",
   "version": "3.12.4"
  }
 },
 "nbformat": 4,
 "nbformat_minor": 5
}
